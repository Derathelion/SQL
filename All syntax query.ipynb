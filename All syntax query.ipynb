{
    "metadata": {
        "kernelspec": {
            "name": "SQL",
            "display_name": "SQL",
            "language": "sql"
        },
        "language_info": {
            "name": "sql",
            "version": ""
        }
    },
    "nbformat_minor": 2,
    "nbformat": 4,
    "cells": [
        {
            "cell_type": "markdown",
            "source": [
                "> > ## **ALL SYNTAX QUERY**"
            ],
            "metadata": {
                "azdata_cell_guid": "98e27d47-e1f8-4137-95d1-053735abaa40"
            },
            "attachments": {}
        },
        {
            "cell_type": "markdown",
            "source": [
                "> This is a Query showing all the basic syntax in an SQL code. It includes joining two tables and usng aggregate functions."
            ],
            "metadata": {
                "azdata_cell_guid": "69124d3b-67d8-449d-a489-7d286f1c62cc"
            },
            "attachments": {}
        },
        {
            "cell_type": "code",
            "source": [
                "\r\n",
                "SELECT ord.OrderID\r\n",
                "\t  ,sum(Quantity) as TotalQty \r\n",
                "\t    ,Avg(Quantity) as AvgQty \r\n",
                "\t\t  ,Max(Quantity) as MaxQty \r\n",
                "\t\t    ,Min(Quantity) as MinQty \r\n",
                "FROM dbo.Orders as ord\r\n",
                "  INNER JOIN dbo.OrderDetails as od\r\n",
                "  ON ord.OrderID = od.OrderID\r\n",
                "  INNER JOIN dbo.Products as prod\r\n",
                "  ON od.ProductID = prod.ProductID\r\n",
                "WHERE od.Quantity >= 40 \r\n",
                "GROUP BY ord.OrderID\r\n",
                "HAVING sum(od.Quantity)>= 170\r\n",
                "ORDER BY TotalQty"
            ],
            "metadata": {
                "azdata_cell_guid": "a075f02d-dc88-4096-98b0-62db2a50963c",
                "language": "sql",
                "tags": []
            },
            "outputs": [
                {
                    "output_type": "display_data",
                    "data": {
                        "text/html": "(19 rows affected)"
                    },
                    "metadata": {}
                },
                {
                    "output_type": "display_data",
                    "data": {
                        "text/html": "Total execution time: 00:00:00.014"
                    },
                    "metadata": {}
                },
                {
                    "output_type": "execute_result",
                    "metadata": {},
                    "execution_count": 1,
                    "data": {
                        "application/vnd.dataresource+json": {
                            "schema": {
                                "fields": [
                                    {
                                        "name": "OrderID"
                                    },
                                    {
                                        "name": "TotalQty"
                                    },
                                    {
                                        "name": "AvgQty"
                                    },
                                    {
                                        "name": "MaxQty"
                                    },
                                    {
                                        "name": "MinQty"
                                    }
                                ]
                            },
                            "data": [
                                {
                                    "OrderID": "10894",
                                    "TotalQty": "170",
                                    "AvgQty": "85",
                                    "MaxQty": "120",
                                    "MinQty": "50"
                                },
                                {
                                    "OrderID": "11072",
                                    "TotalQty": "170",
                                    "AvgQty": "85",
                                    "MaxQty": "130",
                                    "MinQty": "40"
                                },
                                {
                                    "OrderID": "10941",
                                    "TotalQty": "174",
                                    "AvgQty": "58",
                                    "MaxQty": "80",
                                    "MinQty": "44"
                                },
                                {
                                    "OrderID": "10451",
                                    "TotalQty": "175",
                                    "AvgQty": "87",
                                    "MaxQty": "120",
                                    "MinQty": "55"
                                },
                                {
                                    "OrderID": "10440",
                                    "TotalQty": "184",
                                    "AvgQty": "61",
                                    "MaxQty": "90",
                                    "MinQty": "45"
                                },
                                {
                                    "OrderID": "10595",
                                    "TotalQty": "185",
                                    "AvgQty": "92",
                                    "MaxQty": "120",
                                    "MinQty": "65"
                                },
                                {
                                    "OrderID": "10607",
                                    "TotalQty": "187",
                                    "AvgQty": "62",
                                    "MaxQty": "100",
                                    "MinQty": "42"
                                },
                                {
                                    "OrderID": "10324",
                                    "TotalQty": "190",
                                    "AvgQty": "63",
                                    "MaxQty": "80",
                                    "MinQty": "40"
                                },
                                {
                                    "OrderID": "10549",
                                    "TotalQty": "203",
                                    "AvgQty": "67",
                                    "MaxQty": "100",
                                    "MinQty": "48"
                                },
                                {
                                    "OrderID": "10359",
                                    "TotalQty": "206",
                                    "AvgQty": "68",
                                    "MaxQty": "80",
                                    "MinQty": "56"
                                },
                                {
                                    "OrderID": "10678",
                                    "TotalQty": "220",
                                    "AvgQty": "110",
                                    "MaxQty": "120",
                                    "MinQty": "100"
                                },
                                {
                                    "OrderID": "10845",
                                    "TotalQty": "220",
                                    "AvgQty": "55",
                                    "MaxQty": "70",
                                    "MinQty": "42"
                                },
                                {
                                    "OrderID": "10847",
                                    "TotalQty": "240",
                                    "AvgQty": "60",
                                    "MaxQty": "80",
                                    "MinQty": "45"
                                },
                                {
                                    "OrderID": "10612",
                                    "TotalQty": "245",
                                    "AvgQty": "61",
                                    "MaxQty": "80",
                                    "MinQty": "40"
                                },
                                {
                                    "OrderID": "10515",
                                    "TotalQty": "254",
                                    "AvgQty": "84",
                                    "MaxQty": "120",
                                    "MinQty": "50"
                                },
                                {
                                    "OrderID": "10658",
                                    "TotalQty": "255",
                                    "AvgQty": "63",
                                    "MaxQty": "70",
                                    "MinQty": "55"
                                },
                                {
                                    "OrderID": "10990",
                                    "TotalQty": "256",
                                    "AvgQty": "64",
                                    "MaxQty": "66",
                                    "MinQty": "60"
                                },
                                {
                                    "OrderID": "11030",
                                    "TotalQty": "330",
                                    "AvgQty": "82",
                                    "MaxQty": "100",
                                    "MinQty": "60"
                                },
                                {
                                    "OrderID": "10895",
                                    "TotalQty": "346",
                                    "AvgQty": "86",
                                    "MaxQty": "110",
                                    "MinQty": "45"
                                }
                            ]
                        },
                        "text/html": [
                            "<table>",
                            "<tr><th>OrderID</th><th>TotalQty</th><th>AvgQty</th><th>MaxQty</th><th>MinQty</th></tr>",
                            "<tr><td>10894</td><td>170</td><td>85</td><td>120</td><td>50</td></tr>",
                            "<tr><td>11072</td><td>170</td><td>85</td><td>130</td><td>40</td></tr>",
                            "<tr><td>10941</td><td>174</td><td>58</td><td>80</td><td>44</td></tr>",
                            "<tr><td>10451</td><td>175</td><td>87</td><td>120</td><td>55</td></tr>",
                            "<tr><td>10440</td><td>184</td><td>61</td><td>90</td><td>45</td></tr>",
                            "<tr><td>10595</td><td>185</td><td>92</td><td>120</td><td>65</td></tr>",
                            "<tr><td>10607</td><td>187</td><td>62</td><td>100</td><td>42</td></tr>",
                            "<tr><td>10324</td><td>190</td><td>63</td><td>80</td><td>40</td></tr>",
                            "<tr><td>10549</td><td>203</td><td>67</td><td>100</td><td>48</td></tr>",
                            "<tr><td>10359</td><td>206</td><td>68</td><td>80</td><td>56</td></tr>",
                            "<tr><td>10678</td><td>220</td><td>110</td><td>120</td><td>100</td></tr>",
                            "<tr><td>10845</td><td>220</td><td>55</td><td>70</td><td>42</td></tr>",
                            "<tr><td>10847</td><td>240</td><td>60</td><td>80</td><td>45</td></tr>",
                            "<tr><td>10612</td><td>245</td><td>61</td><td>80</td><td>40</td></tr>",
                            "<tr><td>10515</td><td>254</td><td>84</td><td>120</td><td>50</td></tr>",
                            "<tr><td>10658</td><td>255</td><td>63</td><td>70</td><td>55</td></tr>",
                            "<tr><td>10990</td><td>256</td><td>64</td><td>66</td><td>60</td></tr>",
                            "<tr><td>11030</td><td>330</td><td>82</td><td>100</td><td>60</td></tr>",
                            "<tr><td>10895</td><td>346</td><td>86</td><td>110</td><td>45</td></tr>",
                            "</table>"
                        ]
                    }
                }
            ],
            "execution_count": 1
        }
    ]
}