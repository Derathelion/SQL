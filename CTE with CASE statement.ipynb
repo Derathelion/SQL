{
    "metadata": {
        "kernelspec": {
            "name": "SQL",
            "display_name": "SQL",
            "language": "sql"
        },
        "language_info": {
            "name": "sql",
            "version": ""
        }
    },
    "nbformat_minor": 2,
    "nbformat": 4,
    "cells": [
        {
            "cell_type": "markdown",
            "source": [
                "> ## **CTE with CASE statement**"
            ],
            "metadata": {
                "azdata_cell_guid": "f97913e2-0069-4ea0-9775-8c41d5fcbb1d"
            },
            "attachments": {}
        },
        {
            "cell_type": "markdown",
            "source": [
                "This query demonstrates getting the ship freight charges by Country for three different years. We first get the fields we want, wrap it in a CTE, and then use a case statement to categorise them by Year."
            ],
            "metadata": {
                "azdata_cell_guid": "41c6ab7f-c16f-4bd3-b076-7661514b39a4"
            },
            "attachments": {}
        },
        {
            "cell_type": "code",
            "source": [
                "WITH fre_tot AS (\r\n",
                "    SELECT\r\n",
                "        YEAR(ord.OrderDate) AS OrderYear,\r\n",
                "        DATENAME(Month, ord.OrderDate) AS OrderMonth,\r\n",
                "        LEFT(DATENAME(Month, ord.OrderDate), 3) AS OrderMonthShort,\r\n",
                "        [ShipCountry],\r\n",
                "        CAST(SUM([Freight]) AS MONEY) AS 'Freight'\r\n",
                "    FROM\r\n",
                "        dbo.OrderDetails od\r\n",
                "    INNER JOIN dbo.Orders ord ON od.OrderID = ord.OrderID\r\n",
                "    INNER JOIN dbo.Products prod ON od.ProductID = prod.ProductID\r\n",
                "    INNER JOIN dbo.Categories cat ON prod.CategoryID = cat.CategoryID\r\n",
                "    GROUP BY\r\n",
                "        YEAR(ord.OrderDate),\r\n",
                "        MONTH(ord.OrderDate),\r\n",
                "        DATENAME(Month, ord.OrderDate),\r\n",
                "        LEFT(DATENAME(Month, ord.OrderDate), 3),\r\n",
                "        ShipCountry\r\n",
                ")\r\n",
                "SELECT\r\n",
                "    ShipCountry,\r\n",
                "    SUM(CASE WHEN OrderYear = 2021 THEN Freight ELSE 0 END) AS '2021',\r\n",
                "    SUM(CASE WHEN OrderYear = 2022 THEN Freight ELSE 0 END) AS '2022',\r\n",
                "    SUM(CASE WHEN OrderYear = 2023 THEN Freight ELSE 0 END) AS '2023'\r\n",
                "FROM\r\n",
                "    fre_tot ft\r\n",
                "GROUP BY ShipCountry"
            ],
            "metadata": {
                "azdata_cell_guid": "7880ab1b-f98f-4db4-97b1-f13d93ddcbdd",
                "language": "sql"
            },
            "outputs": [
                {
                    "output_type": "display_data",
                    "data": {
                        "text/html": "(21 rows affected)"
                    },
                    "metadata": {}
                },
                {
                    "output_type": "display_data",
                    "data": {
                        "text/html": "Total execution time: 00:00:00.016"
                    },
                    "metadata": {}
                },
                {
                    "output_type": "execute_result",
                    "metadata": {},
                    "execution_count": 1,
                    "data": {
                        "application/vnd.dataresource+json": {
                            "schema": {
                                "fields": [
                                    {
                                        "name": "ShipCountry"
                                    },
                                    {
                                        "name": "2021"
                                    },
                                    {
                                        "name": "2022"
                                    },
                                    {
                                        "name": "2023"
                                    }
                                ]
                            },
                            "data": [
                                {
                                    "2021": "0.00",
                                    "2022": "265.89",
                                    "2023": "1506.78",
                                    "ShipCountry": "Argentina"
                                },
                                {
                                    "2021": "3885.98",
                                    "2022": "14401.87",
                                    "2023": "9443.59",
                                    "ShipCountry": "Austria"
                                },
                                {
                                    "2021": "172.71",
                                    "2022": "1651.40",
                                    "2023": "2446.92",
                                    "ShipCountry": "Belgium"
                                },
                                {
                                    "2021": "4581.78",
                                    "2022": "6379.94",
                                    "2023": "3621.26",
                                    "ShipCountry": "Brazil"
                                },
                                {
                                    "2021": "415.57",
                                    "2022": "4976.28",
                                    "2023": "930.05",
                                    "ShipCountry": "Canada"
                                },
                                {
                                    "2021": "217.20",
                                    "2022": "3550.75",
                                    "2023": "518.53",
                                    "ShipCountry": "Denmark"
                                },
                                {
                                    "2021": "335.15",
                                    "2022": "2337.63",
                                    "2023": "201.31",
                                    "ShipCountry": "Finland"
                                },
                                {
                                    "2021": "2066.36",
                                    "2022": "7405.97",
                                    "2023": "3154.25",
                                    "ShipCountry": "France"
                                },
                                {
                                    "2021": "5934.41",
                                    "2022": "22008.59",
                                    "2023": "10227.75",
                                    "ShipCountry": "Germany"
                                },
                                {
                                    "2021": "1466.18",
                                    "2022": "2859.69",
                                    "2023": "2888.62",
                                    "ShipCountry": "Ireland"
                                },
                                {
                                    "2021": "104.12",
                                    "2022": "1222.02",
                                    "2023": "782.75",
                                    "ShipCountry": "Italy"
                                },
                                {
                                    "2021": "636.99",
                                    "2022": "1930.20",
                                    "2023": "662.32",
                                    "ShipCountry": "Mexico"
                                },
                                {
                                    "2021": "374.52",
                                    "2022": "65.38",
                                    "2023": "457.15",
                                    "ShipCountry": "Norway"
                                },
                                {
                                    "2021": "7.88",
                                    "2022": "313.32",
                                    "2023": "140.33",
                                    "ShipCountry": "Poland"
                                },
                                {
                                    "2021": "399.72",
                                    "2022": "740.39",
                                    "2023": "609.42",
                                    "ShipCountry": "Portugal"
                                },
                                {
                                    "2021": "634.41",
                                    "2022": "426.30",
                                    "2023": "1358.54",
                                    "ShipCountry": "Spain"
                                },
                                {
                                    "2021": "1001.20",
                                    "2022": "5586.55",
                                    "2023": "3558.37",
                                    "ShipCountry": "Sweden"
                                },
                                {
                                    "2021": "665.77",
                                    "2022": "2665.76",
                                    "2023": "581.49",
                                    "ShipCountry": "Switzerland"
                                },
                                {
                                    "2021": "1486.80",
                                    "2022": "3430.66",
                                    "2023": "3573.07",
                                    "ShipCountry": "UK"
                                },
                                {
                                    "2021": "6275.51",
                                    "2022": "20774.96",
                                    "2023": "19115.35",
                                    "ShipCountry": "USA"
                                },
                                {
                                    "2021": "1409.27",
                                    "2022": "3798.52",
                                    "2023": "2664.65",
                                    "ShipCountry": "Venezuela"
                                }
                            ]
                        },
                        "text/html": [
                            "<table>",
                            "<tr><th>ShipCountry</th><th>2021</th><th>2022</th><th>2023</th></tr>",
                            "<tr><td>Argentina</td><td>0.00</td><td>265.89</td><td>1506.78</td></tr>",
                            "<tr><td>Austria</td><td>3885.98</td><td>14401.87</td><td>9443.59</td></tr>",
                            "<tr><td>Belgium</td><td>172.71</td><td>1651.40</td><td>2446.92</td></tr>",
                            "<tr><td>Brazil</td><td>4581.78</td><td>6379.94</td><td>3621.26</td></tr>",
                            "<tr><td>Canada</td><td>415.57</td><td>4976.28</td><td>930.05</td></tr>",
                            "<tr><td>Denmark</td><td>217.20</td><td>3550.75</td><td>518.53</td></tr>",
                            "<tr><td>Finland</td><td>335.15</td><td>2337.63</td><td>201.31</td></tr>",
                            "<tr><td>France</td><td>2066.36</td><td>7405.97</td><td>3154.25</td></tr>",
                            "<tr><td>Germany</td><td>5934.41</td><td>22008.59</td><td>10227.75</td></tr>",
                            "<tr><td>Ireland</td><td>1466.18</td><td>2859.69</td><td>2888.62</td></tr>",
                            "<tr><td>Italy</td><td>104.12</td><td>1222.02</td><td>782.75</td></tr>",
                            "<tr><td>Mexico</td><td>636.99</td><td>1930.20</td><td>662.32</td></tr>",
                            "<tr><td>Norway</td><td>374.52</td><td>65.38</td><td>457.15</td></tr>",
                            "<tr><td>Poland</td><td>7.88</td><td>313.32</td><td>140.33</td></tr>",
                            "<tr><td>Portugal</td><td>399.72</td><td>740.39</td><td>609.42</td></tr>",
                            "<tr><td>Spain</td><td>634.41</td><td>426.30</td><td>1358.54</td></tr>",
                            "<tr><td>Sweden</td><td>1001.20</td><td>5586.55</td><td>3558.37</td></tr>",
                            "<tr><td>Switzerland</td><td>665.77</td><td>2665.76</td><td>581.49</td></tr>",
                            "<tr><td>UK</td><td>1486.80</td><td>3430.66</td><td>3573.07</td></tr>",
                            "<tr><td>USA</td><td>6275.51</td><td>20774.96</td><td>19115.35</td></tr>",
                            "<tr><td>Venezuela</td><td>1409.27</td><td>3798.52</td><td>2664.65</td></tr>",
                            "</table>"
                        ]
                    }
                }
            ],
            "execution_count": 1
        }
    ]
}