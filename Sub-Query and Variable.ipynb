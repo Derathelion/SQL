{
    "metadata": {
        "kernelspec": {
            "name": "SQL",
            "display_name": "SQL",
            "language": "sql"
        },
        "language_info": {
            "name": "sql",
            "version": ""
        }
    },
    "nbformat_minor": 2,
    "nbformat": 4,
    "cells": [
        {
            "cell_type": "markdown",
            "source": [
                "## **SUB-QUERY and VARIABLES**"
            ],
            "metadata": {
                "azdata_cell_guid": "90adc811-74bf-401d-994e-b37f9ad7fd1c"
            },
            "attachments": {}
        },
        {
            "cell_type": "markdown",
            "source": [
                "This query will demonstrate a sub-query used in a WHERE statement to show where Unit Price is greater than Average Unit Price."
            ],
            "metadata": {
                "azdata_cell_guid": "f1c956f3-5939-40b6-8d77-56ac638497ac"
            },
            "attachments": {}
        },
        {
            "cell_type": "code",
            "source": [
                "SELECT prod.ProductName\r\n",
                "\t   ,prod.UnitPrice\r\n",
                "FROM Products prod  \r\n",
                "WHERE prod.UnitPrice > (SELECT AVG(prod.Unitprice) FROM dbo.Products prod)\r\n",
                "ORDER BY prod.UnitPrice DESC\r\n",
                ""
            ],
            "metadata": {
                "azdata_cell_guid": "7239497e-9398-48f2-8624-b4ba677446fe",
                "language": "sql"
            },
            "outputs": [
                {
                    "output_type": "display_data",
                    "data": {
                        "text/html": "(25 rows affected)"
                    },
                    "metadata": {}
                },
                {
                    "output_type": "display_data",
                    "data": {
                        "text/html": "Total execution time: 00:00:00.035"
                    },
                    "metadata": {}
                },
                {
                    "output_type": "execute_result",
                    "metadata": {},
                    "execution_count": 1,
                    "data": {
                        "application/vnd.dataresource+json": {
                            "schema": {
                                "fields": [
                                    {
                                        "name": "ProductName"
                                    },
                                    {
                                        "name": "UnitPrice"
                                    }
                                ]
                            },
                            "data": [
                                {
                                    "ProductName": "Côte de Blaye",
                                    "UnitPrice": "263.50"
                                },
                                {
                                    "ProductName": "Thüringer Rostbratwurst",
                                    "UnitPrice": "123.79"
                                },
                                {
                                    "ProductName": "Mishi Kobe Niku",
                                    "UnitPrice": "97.00"
                                },
                                {
                                    "ProductName": "Sir Rodney's Marmalade",
                                    "UnitPrice": "81.00"
                                },
                                {
                                    "ProductName": "Carnarvon Tigers",
                                    "UnitPrice": "62.50"
                                },
                                {
                                    "ProductName": "Raclette Courdavault",
                                    "UnitPrice": "55.00"
                                },
                                {
                                    "ProductName": "Manjimup Dried Apples",
                                    "UnitPrice": "53.00"
                                },
                                {
                                    "ProductName": "Tarte au sucre",
                                    "UnitPrice": "49.30"
                                },
                                {
                                    "ProductName": "Ipoh Coffee",
                                    "UnitPrice": "46.00"
                                },
                                {
                                    "ProductName": "Rössle Sauerkraut",
                                    "UnitPrice": "45.60"
                                },
                                {
                                    "ProductName": "Vegie-spread",
                                    "UnitPrice": "43.90"
                                },
                                {
                                    "ProductName": "Schoggi Schokolade",
                                    "UnitPrice": "43.90"
                                },
                                {
                                    "ProductName": "Northwoods Cranberry Sauce",
                                    "UnitPrice": "40.00"
                                },
                                {
                                    "ProductName": "Alice Mutton",
                                    "UnitPrice": "39.00"
                                },
                                {
                                    "ProductName": "Queso Manchego La Pastora",
                                    "UnitPrice": "38.00"
                                },
                                {
                                    "ProductName": "Gnocchi di nonna Alice",
                                    "UnitPrice": "38.00"
                                },
                                {
                                    "ProductName": "Gudbrandsdalsost",
                                    "UnitPrice": "36.00"
                                },
                                {
                                    "ProductName": "Mozzarella di Giovanni",
                                    "UnitPrice": "34.80"
                                },
                                {
                                    "ProductName": "Camembert Pierrot",
                                    "UnitPrice": "34.00"
                                },
                                {
                                    "ProductName": "Wimmers gute Semmelknödel",
                                    "UnitPrice": "33.25"
                                },
                                {
                                    "ProductName": "Perth Pasties",
                                    "UnitPrice": "32.80"
                                },
                                {
                                    "ProductName": "Mascarpone Fabioli",
                                    "UnitPrice": "32.00"
                                },
                                {
                                    "ProductName": "Gumbär Gummibärchen",
                                    "UnitPrice": "31.23"
                                },
                                {
                                    "ProductName": "Ikura",
                                    "UnitPrice": "31.00"
                                },
                                {
                                    "ProductName": "Uncle Bob's Organic Dried Pears",
                                    "UnitPrice": "30.00"
                                }
                            ]
                        },
                        "text/html": [
                            "<table>",
                            "<tr><th>ProductName</th><th>UnitPrice</th></tr>",
                            "<tr><td>Côte de Blaye</td><td>263.50</td></tr>",
                            "<tr><td>Thüringer Rostbratwurst</td><td>123.79</td></tr>",
                            "<tr><td>Mishi Kobe Niku</td><td>97.00</td></tr>",
                            "<tr><td>Sir Rodney&#39;s Marmalade</td><td>81.00</td></tr>",
                            "<tr><td>Carnarvon Tigers</td><td>62.50</td></tr>",
                            "<tr><td>Raclette Courdavault</td><td>55.00</td></tr>",
                            "<tr><td>Manjimup Dried Apples</td><td>53.00</td></tr>",
                            "<tr><td>Tarte au sucre</td><td>49.30</td></tr>",
                            "<tr><td>Ipoh Coffee</td><td>46.00</td></tr>",
                            "<tr><td>Rössle Sauerkraut</td><td>45.60</td></tr>",
                            "<tr><td>Vegie-spread</td><td>43.90</td></tr>",
                            "<tr><td>Schoggi Schokolade</td><td>43.90</td></tr>",
                            "<tr><td>Northwoods Cranberry Sauce</td><td>40.00</td></tr>",
                            "<tr><td>Alice Mutton</td><td>39.00</td></tr>",
                            "<tr><td>Queso Manchego La Pastora</td><td>38.00</td></tr>",
                            "<tr><td>Gnocchi di nonna Alice</td><td>38.00</td></tr>",
                            "<tr><td>Gudbrandsdalsost</td><td>36.00</td></tr>",
                            "<tr><td>Mozzarella di Giovanni</td><td>34.80</td></tr>",
                            "<tr><td>Camembert Pierrot</td><td>34.00</td></tr>",
                            "<tr><td>Wimmers gute Semmelknödel</td><td>33.25</td></tr>",
                            "<tr><td>Perth Pasties</td><td>32.80</td></tr>",
                            "<tr><td>Mascarpone Fabioli</td><td>32.00</td></tr>",
                            "<tr><td>Gumbär Gummibärchen</td><td>31.23</td></tr>",
                            "<tr><td>Ikura</td><td>31.00</td></tr>",
                            "<tr><td>Uncle Bob&#39;s Organic Dried Pears</td><td>30.00</td></tr>",
                            "</table>"
                        ]
                    }
                }
            ],
            "execution_count": 1
        },
        {
            "cell_type": "markdown",
            "source": [
                "Now instead of using the subquery in the WHERE clause, we declare it a variable."
            ],
            "metadata": {
                "azdata_cell_guid": "465e74bd-03fe-474c-a968-3f1bda0cc892"
            },
            "attachments": {}
        },
        {
            "cell_type": "code",
            "source": [
                "DECLARE @AvgPrice money = (SELECT AVG(prod.Unitprice) FROM dbo.Products prod)\r\n",
                "SELECT prod.ProductName\r\n",
                "\t   ,prod.UnitPrice\r\n",
                "FROM Products prod  \r\n",
                "WHERE prod.UnitPrice >@AvgPrice \r\n",
                "ORDER BY prod.UnitPrice DESC\r\n",
                "GO"
            ],
            "metadata": {
                "azdata_cell_guid": "b26ec163-c3fd-4deb-b8ac-a9f3fa3e080a",
                "language": "sql"
            },
            "outputs": [
                {
                    "output_type": "display_data",
                    "data": {
                        "text/html": "(25 rows affected)"
                    },
                    "metadata": {}
                },
                {
                    "output_type": "display_data",
                    "data": {
                        "text/html": "Total execution time: 00:00:00.028"
                    },
                    "metadata": {}
                },
                {
                    "output_type": "execute_result",
                    "metadata": {},
                    "execution_count": 2,
                    "data": {
                        "application/vnd.dataresource+json": {
                            "schema": {
                                "fields": [
                                    {
                                        "name": "ProductName"
                                    },
                                    {
                                        "name": "UnitPrice"
                                    }
                                ]
                            },
                            "data": [
                                {
                                    "ProductName": "Côte de Blaye",
                                    "UnitPrice": "263.50"
                                },
                                {
                                    "ProductName": "Thüringer Rostbratwurst",
                                    "UnitPrice": "123.79"
                                },
                                {
                                    "ProductName": "Mishi Kobe Niku",
                                    "UnitPrice": "97.00"
                                },
                                {
                                    "ProductName": "Sir Rodney's Marmalade",
                                    "UnitPrice": "81.00"
                                },
                                {
                                    "ProductName": "Carnarvon Tigers",
                                    "UnitPrice": "62.50"
                                },
                                {
                                    "ProductName": "Raclette Courdavault",
                                    "UnitPrice": "55.00"
                                },
                                {
                                    "ProductName": "Manjimup Dried Apples",
                                    "UnitPrice": "53.00"
                                },
                                {
                                    "ProductName": "Tarte au sucre",
                                    "UnitPrice": "49.30"
                                },
                                {
                                    "ProductName": "Ipoh Coffee",
                                    "UnitPrice": "46.00"
                                },
                                {
                                    "ProductName": "Rössle Sauerkraut",
                                    "UnitPrice": "45.60"
                                },
                                {
                                    "ProductName": "Vegie-spread",
                                    "UnitPrice": "43.90"
                                },
                                {
                                    "ProductName": "Schoggi Schokolade",
                                    "UnitPrice": "43.90"
                                },
                                {
                                    "ProductName": "Northwoods Cranberry Sauce",
                                    "UnitPrice": "40.00"
                                },
                                {
                                    "ProductName": "Alice Mutton",
                                    "UnitPrice": "39.00"
                                },
                                {
                                    "ProductName": "Queso Manchego La Pastora",
                                    "UnitPrice": "38.00"
                                },
                                {
                                    "ProductName": "Gnocchi di nonna Alice",
                                    "UnitPrice": "38.00"
                                },
                                {
                                    "ProductName": "Gudbrandsdalsost",
                                    "UnitPrice": "36.00"
                                },
                                {
                                    "ProductName": "Mozzarella di Giovanni",
                                    "UnitPrice": "34.80"
                                },
                                {
                                    "ProductName": "Camembert Pierrot",
                                    "UnitPrice": "34.00"
                                },
                                {
                                    "ProductName": "Wimmers gute Semmelknödel",
                                    "UnitPrice": "33.25"
                                },
                                {
                                    "ProductName": "Perth Pasties",
                                    "UnitPrice": "32.80"
                                },
                                {
                                    "ProductName": "Mascarpone Fabioli",
                                    "UnitPrice": "32.00"
                                },
                                {
                                    "ProductName": "Gumbär Gummibärchen",
                                    "UnitPrice": "31.23"
                                },
                                {
                                    "ProductName": "Ikura",
                                    "UnitPrice": "31.00"
                                },
                                {
                                    "ProductName": "Uncle Bob's Organic Dried Pears",
                                    "UnitPrice": "30.00"
                                }
                            ]
                        },
                        "text/html": [
                            "<table>",
                            "<tr><th>ProductName</th><th>UnitPrice</th></tr>",
                            "<tr><td>Côte de Blaye</td><td>263.50</td></tr>",
                            "<tr><td>Thüringer Rostbratwurst</td><td>123.79</td></tr>",
                            "<tr><td>Mishi Kobe Niku</td><td>97.00</td></tr>",
                            "<tr><td>Sir Rodney&#39;s Marmalade</td><td>81.00</td></tr>",
                            "<tr><td>Carnarvon Tigers</td><td>62.50</td></tr>",
                            "<tr><td>Raclette Courdavault</td><td>55.00</td></tr>",
                            "<tr><td>Manjimup Dried Apples</td><td>53.00</td></tr>",
                            "<tr><td>Tarte au sucre</td><td>49.30</td></tr>",
                            "<tr><td>Ipoh Coffee</td><td>46.00</td></tr>",
                            "<tr><td>Rössle Sauerkraut</td><td>45.60</td></tr>",
                            "<tr><td>Vegie-spread</td><td>43.90</td></tr>",
                            "<tr><td>Schoggi Schokolade</td><td>43.90</td></tr>",
                            "<tr><td>Northwoods Cranberry Sauce</td><td>40.00</td></tr>",
                            "<tr><td>Alice Mutton</td><td>39.00</td></tr>",
                            "<tr><td>Queso Manchego La Pastora</td><td>38.00</td></tr>",
                            "<tr><td>Gnocchi di nonna Alice</td><td>38.00</td></tr>",
                            "<tr><td>Gudbrandsdalsost</td><td>36.00</td></tr>",
                            "<tr><td>Mozzarella di Giovanni</td><td>34.80</td></tr>",
                            "<tr><td>Camembert Pierrot</td><td>34.00</td></tr>",
                            "<tr><td>Wimmers gute Semmelknödel</td><td>33.25</td></tr>",
                            "<tr><td>Perth Pasties</td><td>32.80</td></tr>",
                            "<tr><td>Mascarpone Fabioli</td><td>32.00</td></tr>",
                            "<tr><td>Gumbär Gummibärchen</td><td>31.23</td></tr>",
                            "<tr><td>Ikura</td><td>31.00</td></tr>",
                            "<tr><td>Uncle Bob&#39;s Organic Dried Pears</td><td>30.00</td></tr>",
                            "</table>"
                        ]
                    }
                }
            ],
            "execution_count": 2
        }
    ]
}