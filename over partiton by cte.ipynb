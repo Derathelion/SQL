{
    "metadata": {
        "kernelspec": {
            "name": "SQL",
            "display_name": "SQL",
            "language": "sql"
        },
        "language_info": {
            "name": "sql",
            "version": ""
        }
    },
    "nbformat_minor": 2,
    "nbformat": 4,
    "cells": [
        {
            "cell_type": "markdown",
            "source": [
                "In order to to get a line by line pct total for a partitioned category in SQL you need to use a window function. The aggregate window functions allow you to generate this field to be used in calculation."
            ],
            "metadata": {
                "azdata_cell_guid": "ca63d191-d8ec-4af6-8042-82f7b5102e00"
            },
            "attachments": {}
        },
        {
            "cell_type": "code",
            "source": [
                "SELECT TOP 5 ord.ShipCountry\r\n",
                "            ,ord.ShipName\r\n",
                "            ,CAST(ord.ShippedDate as DATE) as 'ShippedDate'\r\n",
                "            ,ord.Freight\r\n",
                "            ,SUM(ord.Freight) OVER(PARTITiON BY ord.ShipCountry) as 'WeightByCountry'\r\n",
                "FROM dbo.Orders ord\r\n",
                "ORDER BY ord.ShipCountry, ord.ShipName"
            ],
            "metadata": {
                "azdata_cell_guid": "976be427-1d26-45ae-be7a-88ed87a75741",
                "language": "sql"
            },
            "outputs": [
                {
                    "output_type": "display_data",
                    "data": {
                        "text/html": "(5 rows affected)"
                    },
                    "metadata": {}
                },
                {
                    "output_type": "display_data",
                    "data": {
                        "text/html": "Total execution time: 00:00:00.008"
                    },
                    "metadata": {}
                },
                {
                    "output_type": "execute_result",
                    "metadata": {},
                    "execution_count": 6,
                    "data": {
                        "application/vnd.dataresource+json": {
                            "schema": {
                                "fields": [
                                    {
                                        "name": "ShipCountry"
                                    },
                                    {
                                        "name": "ShipName"
                                    },
                                    {
                                        "name": "ShippedDate"
                                    },
                                    {
                                        "name": "Freight"
                                    },
                                    {
                                        "name": "WeightByCountry"
                                    }
                                ]
                            },
                            "data": [
                                {
                                    "ShipCountry": "Argentina",
                                    "ShipName": "Cactus Comidas para llevar",
                                    "ShippedDate": "2022-05-02",
                                    "Freight": "17.22",
                                    "WeightByCountry": "598.58"
                                },
                                {
                                    "ShipCountry": "Argentina",
                                    "ShipName": "Cactus Comidas para llevar",
                                    "ShippedDate": "2022-12-22",
                                    "Freight": "1.10",
                                    "WeightByCountry": "598.58"
                                },
                                {
                                    "ShipCountry": "Argentina",
                                    "ShipName": "Cactus Comidas para llevar",
                                    "ShippedDate": "2023-01-16",
                                    "Freight": "19.76",
                                    "WeightByCountry": "598.58"
                                },
                                {
                                    "ShipCountry": "Argentina",
                                    "ShipName": "Cactus Comidas para llevar",
                                    "ShippedDate": "2023-02-18",
                                    "Freight": "2.84",
                                    "WeightByCountry": "598.58"
                                },
                                {
                                    "ShipCountry": "Argentina",
                                    "ShipName": "Cactus Comidas para llevar",
                                    "ShippedDate": "2023-03-13",
                                    "Freight": "31.51",
                                    "WeightByCountry": "598.58"
                                }
                            ]
                        },
                        "text/html": [
                            "<table>",
                            "<tr><th>ShipCountry</th><th>ShipName</th><th>ShippedDate</th><th>Freight</th><th>WeightByCountry</th></tr>",
                            "<tr><td>Argentina</td><td>Cactus Comidas para llevar</td><td>2022-05-02</td><td>17.22</td><td>598.58</td></tr>",
                            "<tr><td>Argentina</td><td>Cactus Comidas para llevar</td><td>2022-12-22</td><td>1.10</td><td>598.58</td></tr>",
                            "<tr><td>Argentina</td><td>Cactus Comidas para llevar</td><td>2023-01-16</td><td>19.76</td><td>598.58</td></tr>",
                            "<tr><td>Argentina</td><td>Cactus Comidas para llevar</td><td>2023-02-18</td><td>2.84</td><td>598.58</td></tr>",
                            "<tr><td>Argentina</td><td>Cactus Comidas para llevar</td><td>2023-03-13</td><td>31.51</td><td>598.58</td></tr>",
                            "</table>"
                        ]
                    }
                }
            ],
            "execution_count": 6
        },
        {
            "cell_type": "markdown",
            "source": [
                "Now we will complete the query generating the pct line by line and order by that result."
            ],
            "metadata": {
                "language": "sql",
                "azdata_cell_guid": "bb2d8117-fd02-4f7b-a4c0-9d8b8ad259fe"
            },
            "attachments": {}
        },
        {
            "cell_type": "code",
            "source": [
                "WITH aggCountry_CTE as \r\n",
                "(\r\n",
                "    SELECT ord.ShipCountry\r\n",
                "            ,ord.ShipName\r\n",
                "            ,CAST(ord.ShippedDate as DATE) as 'ShippedDate'\r\n",
                "            ,ord.Freight\r\n",
                "            ,SUM(ord.Freight) OVER(PARTITiON BY ord.ShipCountry) as 'WeightByCountry'\r\n",
                "FROM dbo.Orders ord\r\n",
                ")\r\n",
                "SELECT TOP 5 WITH TIES ShipCountry\r\n",
                "            ,ShipName\r\n",
                "            ,ShippedDate as 'Ship Date'\r\n",
                "            ,Freight as 'Charge'\r\n",
                "            ,Freight / WeightByCountry as 'pct Rate by Country'\r\n",
                "FROM aggCountry_CTE\r\n",
                "ORDER BY ShipCountry, [pct Rate by Country] DESC"
            ],
            "metadata": {
                "language": "sql",
                "azdata_cell_guid": "929042ab-6962-4ebb-8a83-369303f582d4"
            },
            "outputs": [
                {
                    "output_type": "display_data",
                    "data": {
                        "text/html": "(5 rows affected)"
                    },
                    "metadata": {}
                },
                {
                    "output_type": "display_data",
                    "data": {
                        "text/html": "Total execution time: 00:00:00.103"
                    },
                    "metadata": {}
                },
                {
                    "output_type": "execute_result",
                    "metadata": {},
                    "execution_count": 7,
                    "data": {
                        "application/vnd.dataresource+json": {
                            "schema": {
                                "fields": [
                                    {
                                        "name": "ShipCountry"
                                    },
                                    {
                                        "name": "ShipName"
                                    },
                                    {
                                        "name": "Ship Date"
                                    },
                                    {
                                        "name": "Charge"
                                    },
                                    {
                                        "name": "pct Rate by Country"
                                    }
                                ]
                            },
                            "data": [
                                {
                                    "ShipCountry": "Argentina",
                                    "ShipName": "Océano Atlántico Ltda.",
                                    "Ship Date": "2023-04-21",
                                    "Charge": "217.86",
                                    "pct Rate by Country": "0.3639"
                                },
                                {
                                    "ShipCountry": "Argentina",
                                    "ShipName": "Rancho grande",
                                    "Ship Date": "2023-02-04",
                                    "Charge": "90.85",
                                    "pct Rate by Country": "0.1517"
                                },
                                {
                                    "ShipCountry": "Argentina",
                                    "ShipName": "Rancho grande",
                                    "Ship Date": "2023-03-09",
                                    "Charge": "63.77",
                                    "pct Rate by Country": "0.1065"
                                },
                                {
                                    "ShipCountry": "Argentina",
                                    "ShipName": "Océano Atlántico Ltda.",
                                    "Ship Date": "2023-03-27",
                                    "Charge": "49.56",
                                    "pct Rate by Country": "0.0827"
                                },
                                {
                                    "ShipCountry": "Argentina",
                                    "ShipName": "Rancho grande",
                                    "Ship Date": "2022-02-24",
                                    "Charge": "38.82",
                                    "pct Rate by Country": "0.0648"
                                }
                            ]
                        },
                        "text/html": [
                            "<table>",
                            "<tr><th>ShipCountry</th><th>ShipName</th><th>Ship Date</th><th>Charge</th><th>pct Rate by Country</th></tr>",
                            "<tr><td>Argentina</td><td>Océano Atlántico Ltda.</td><td>2023-04-21</td><td>217.86</td><td>0.3639</td></tr>",
                            "<tr><td>Argentina</td><td>Rancho grande</td><td>2023-02-04</td><td>90.85</td><td>0.1517</td></tr>",
                            "<tr><td>Argentina</td><td>Rancho grande</td><td>2023-03-09</td><td>63.77</td><td>0.1065</td></tr>",
                            "<tr><td>Argentina</td><td>Océano Atlántico Ltda.</td><td>2023-03-27</td><td>49.56</td><td>0.0827</td></tr>",
                            "<tr><td>Argentina</td><td>Rancho grande</td><td>2022-02-24</td><td>38.82</td><td>0.0648</td></tr>",
                            "</table>"
                        ]
                    }
                }
            ],
            "execution_count": 7
        }
    ]
}